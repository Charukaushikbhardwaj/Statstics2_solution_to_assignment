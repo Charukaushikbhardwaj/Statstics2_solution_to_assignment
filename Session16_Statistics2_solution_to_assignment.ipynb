{
 "cells": [
  {
   "cell_type": "code",
   "execution_count": null,
   "metadata": {},
   "outputs": [],
   "source": [
    "#SOLUTION TO STATITICS-2 ASSIGNMENT\n",
    "***********************************\n",
    "SOLUTION-1\n",
    "Using Binomial Theorem\n",
    "P(x=r)=nCrp^rq^n-r  : where p is the probability of occurance of an outcome r number of times, q is 1-p, n is the total numberof events occuring.\n",
    "P(x=5)= 20C5 (0.75)5 (0.25)15\n",
    "                =[20!/(5!X15!) ]( 0.75)5 (0.25)15 \n",
    "         = 3.42X10-6\n",
    "         \n",
    "SOLUTION-2\n",
    "Using Binomial Theorem\n",
    "P(x=r)=nCrp^rq^n-r  \n",
    "P(x=5)=50C5 (0.2)5 (0.8)\n",
    "                = [50!/(5!X45!)] (0.2)5 (0.8)45\n",
    "               = 0.029\n",
    "               \n",
    "SOLUTION-3\n",
    " The urn contains 4 red and 6 black balls=total of 10 balls. If two balls are drawn without replacement then there can be 4 outcomes namely RB, BR, RR, BB .\n",
    "Probabilities:\n",
    "P(RB)=(4/10)X(6/9)=0.27\n",
    "P(BR)=(6/10)X(4/9)=0.27\n",
    "P(RR)=(4/10)X(3/9)=0.13\n",
    "P(BB)=(6/10)X(5/9)=0.33\n",
    "\n",
    "\n",
    "\n",
    "\t\n"
   ]
  }
 ],
 "metadata": {
  "kernelspec": {
   "display_name": "Python 3",
   "language": "python",
   "name": "python3"
  },
  "language_info": {
   "codemirror_mode": {
    "name": "ipython",
    "version": 3
   },
   "file_extension": ".py",
   "mimetype": "text/x-python",
   "name": "python",
   "nbconvert_exporter": "python",
   "pygments_lexer": "ipython3",
   "version": "3.6.5"
  }
 },
 "nbformat": 4,
 "nbformat_minor": 2
}
